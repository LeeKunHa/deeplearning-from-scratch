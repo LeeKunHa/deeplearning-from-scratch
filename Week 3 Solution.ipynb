{
 "cells": [
  {
   "cell_type": "markdown",
   "metadata": {},
   "source": [
    "<h3> 1. softmax 구현하기 </h3>"
   ]
  },
  {
   "cell_type": "code",
   "execution_count": 23,
   "metadata": {},
   "outputs": [
    {
     "data": {
      "text/plain": [
       "array([[1.58762400e-02, 1.17310428e-01, 8.66813332e-01],\n",
       "       [4.71234165e-02, 9.46499123e-01, 6.37746092e-03],\n",
       "       [9.96620823e-01, 9.08800555e-04, 2.47037604e-03]])"
      ]
     },
     "execution_count": 23,
     "metadata": {},
     "output_type": "execute_result"
    }
   ],
   "source": [
    "from common.functions import softmax\n",
    "import numpy as np\n",
    "\n",
    "## 기본적으로 데이터가 2차원으로 들어올 것이기 때문에, 교재에 있는 코드를 그대로 하면 오류가 생길 수 있음.\n",
    "## 1차원일 때는 교재에 있는 코드가 잘 돌아가지만, 2차원일 때는 그렇지 않음.\n",
    "\n",
    "def softmax(x):\n",
    "    ## 2차원인 경우와 1차원인 경우로 나누어서 계산\n",
    "    if x.ndim == 2:\n",
    "        x = x.T\n",
    "        x = x - np.max(x, axis = 0)\n",
    "        y = np.exp(x) / np.sum(np.exp(x), axis = 0)\n",
    "        return y.T\n",
    "    \n",
    "    x = x - np.max(x)\n",
    "    return np.exp(x) / np.sum(np.exp(x))\n",
    "\n",
    "\n",
    "a = np.array([[1, 3, 5], [12, 15, 10], [13, 6, 7]])\n",
    "softmax(a)"
   ]
  },
  {
   "cell_type": "markdown",
   "metadata": {},
   "source": [
    "<h3> 3. 3층 신경망 구현하기 </h3>\n",
    "문제에서 요구하는 신경망은 아래 사진과 같음"
   ]
  },
  {
   "cell_type": "markdown",
   "metadata": {},
   "source": [
    "![nn](three_layer_network.png)"
   ]
  },
  {
   "cell_type": "code",
   "execution_count": 31,
   "metadata": {},
   "outputs": [
    {
     "name": "stdout",
     "output_type": "stream",
     "text": [
      "[-1.17182067 -0.94161836 -0.79266835]\n"
     ]
    }
   ],
   "source": [
    "from common.functions import * ## 이전 과제에서 구현하였던 활성화 함수를 불러오기\n",
    "\n",
    "np.random.seed(42)\n",
    "def init_network(): ## 가중치와 편향 저장\n",
    "    network = {}\n",
    "    network['W1'] = np.random.randn(2, 2) ## 입력층 to 첫번째 은닉층 가중치\n",
    "    network['b1'] = np.random.randn(2) ## 첫번째 은닉층(h1, h2)에 들어가는 편향 2개\n",
    "    network['W2'] = np.random.randn(2, 3) ## 첫번째 은닉층 to 두번째 은닉층 가중치\n",
    "    network['b2'] = np.random.randn(3) ## 두번째 은닉층(s1, s2, s3)에 들어가는 가중치\n",
    "    network['W3'] = np.random.randn(3, 3) ## 두번째 은닉층 to 출력층 가중치\n",
    "    network['b3'] = np.random.randn(3) ## 출력층에 들어가는 가중치\n",
    "    \n",
    "    return network\n",
    "\n",
    "def forward(network, x):\n",
    "    ## 입력층 to 출력층으로 가는 연산 과정\n",
    "    W1, W2, W3 = network['W1'], network['W2'], network['W3'] ## 신경망 계산에 쓰이는 가중치 불러오기\n",
    "    b1, b2, b3 = network['b1'], network['b2'], network['b3'] ## 신경망 계산에 쓰이는 편향 불러오기\n",
    "    \n",
    "    \n",
    "    ## 입력층부터 출력층까지 연산 과정\n",
    "    a1 = np.dot(x, W1) + b1 ## 입력층과 첫번째 은닉층 사이의 내적\n",
    "    z1 = sigmoid(a1) ## 첫번째 은닉층에 활성화함수 적용\n",
    "    a2 = np.dot(z1, W2) + b2 ## 첫번째 은닉층과 두번째 은닉층 사이의 내적\n",
    "    z2 = sigmoid(a2) ## 두번째 은닉층에 활성화함수 적용\n",
    "    a3 = np.dot(z2, W3) + b3 ## 두번째 은닉층과 출력층 사이의 내적\n",
    "    y = identity_function(a3) ## 마지막 출력층에 활성화함수 적용\n",
    "    \n",
    "    return y\n",
    "\n",
    "network = init_network()\n",
    "x = np.array([1.0, 0.5])\n",
    "y = forward(network, x)\n",
    "print(y)"
   ]
  },
  {
   "cell_type": "markdown",
   "metadata": {},
   "source": [
    "<h3> 4. MNIST 데이터를 활용하여 신경망의 추론 과정을 구현하기 </h3>\n",
    "<h5> (1) 코드 import </h5>"
   ]
  },
  {
   "cell_type": "code",
   "execution_count": 36,
   "metadata": {},
   "outputs": [
    {
     "name": "stdout",
     "output_type": "stream",
     "text": [
      "(60000, 784)\n",
      "(60000,)\n",
      "(10000, 784)\n",
      "(10000,)\n"
     ]
    }
   ],
   "source": [
    "import os, sys\n",
    "sys.path.append('********************')\n",
    "from mnist import load_mnist\n",
    "\n",
    "## 데이터 불러오기\n",
    "(x_train, t_train), (x_test, t_test) = load_mnist(flatten = True, normalize = False)\n",
    "print(x_train.shape)\n",
    "print(t_train.shape)\n",
    "print(x_test.shape)\n",
    "print(t_test.shape)"
   ]
  },
  {
   "cell_type": "markdown",
   "metadata": {},
   "source": [
    "<h5> (2) MNIST 데이터를 이용하여 추론 과정 구현 </h5>"
   ]
  },
  {
   "cell_type": "code",
   "execution_count": 44,
   "metadata": {},
   "outputs": [
    {
     "name": "stdout",
     "output_type": "stream",
     "text": [
      "학습된 network의 Accuracy: 0.9207\n",
      "학습되지 않은 network의 Accuracy: 0.1131\n"
     ]
    }
   ],
   "source": [
    "import pickle \n",
    "\n",
    "\n",
    "def get_data():\n",
    "    (x_train, t_train), (x_test, t_test) = load_mnist(flatten = True, normalize = False)\n",
    "    \n",
    "    return x_test, t_test\n",
    "\n",
    "def init_network():\n",
    "    with open('sample_weight.pkl', 'rb') as f:\n",
    "        network = pickle.load(f)\n",
    "        \n",
    "    return network\n",
    "\n",
    "\n",
    "def predict(network, x):\n",
    "    W1, W2, W3 = network['W1'], network['W2'], network['W3']\n",
    "    b1, b2, b3 = network['b1'], network['b2'], network['b3']\n",
    "    a1 = np.dot(x, W1) + b1\n",
    "    z1 = sigmoid(a1)\n",
    "    a2 = np.dot(z1, W2) + b2\n",
    "    z2 = sigmoid(a2)\n",
    "    a3 = np.dot(z2, W3) + b3\n",
    "    y = softmax(a3)\n",
    "    \n",
    "    return y\n",
    "\n",
    "## Custom Model 만들기\n",
    "def init_network2():\n",
    "    network = {}\n",
    "    network['W1'] = np.random.randn(784, 50)\n",
    "    network['b1'] = np.random.randn(50)\n",
    "    network['W2'] = np.random.randn(50, 100)\n",
    "    network['b2'] = np.random.randn(100)\n",
    "    network['W3'] = np.random.randn(100, 10)\n",
    "    network['b3'] = np.random.randn(10)\n",
    "    \n",
    "    return network\n",
    "\n",
    "     \n",
    "x, t = get_data()\n",
    "network = init_network()\n",
    "network2 = init_network2()\n",
    "\n",
    "accuracy_cnt = 0\n",
    "accuracy_cnt2 = 0\n",
    "\n",
    "## Custom Model과 사전학습된 모델간의 정확도 차이 계산하기\n",
    "for i in range(len(x)):\n",
    "    y = predict(network, x[i]) ## 사전학습된 sample_weight.pkl에 의한 예측 결과\n",
    "    y2 = predict(network2, x[i]) ## 사전학습되지 않은 custom model에 의한 예측 결과\n",
    "    \n",
    "    p = np.argmax(y) ## sample_weight의 예측 최종 결과\n",
    "    p2 = np.argmax(y2) ## custom model에 의한 예측 최종 결과\n",
    "    \n",
    "    if p == t[i]:\n",
    "        accuracy_cnt += 1\n",
    "        \n",
    "    if p2 == t[i]:\n",
    "        accuracy_cnt2 += 1\n",
    "        \n",
    "print('학습된 network의 Accuracy: ' + str(float(accuracy_cnt) / len(x)))\n",
    "print('학습되지 않은 network의 Accuracy: ' + str(float(accuracy_cnt2) / len(x)))\n",
    "\n",
    "## 차이나는 이유 -> sample_weight.pkl은 학습된 weight이고, network2에 구현한 것은 학습되지 않은 weight임."
   ]
  },
  {
   "cell_type": "markdown",
   "metadata": {},
   "source": [
    "<h3> (3) 배치 처리 </h3>"
   ]
  },
  {
   "cell_type": "code",
   "execution_count": 48,
   "metadata": {},
   "outputs": [
    {
     "name": "stdout",
     "output_type": "stream",
     "text": [
      "배치 처리 후 학습된 network의 Accuracy: 0.9207\n"
     ]
    }
   ],
   "source": [
    "batch_size = 100 ## 배치 처리 개수\n",
    "\n",
    "accuracy_cnt = 0\n",
    "\n",
    "## 한번에 100개 처리하기\n",
    "for i in range(0, len(x), batch_size):\n",
    "    x_test, t_test = x[i:i+batch_size], t[i:i+batch_size]\n",
    "    y_pred = np.argmax(predict(network, x_test), axis = 1)\n",
    "    accuracy_cnt += np.sum(y_pred == t_test)\n",
    "    \n",
    "print('배치 처리 후 학습된 network의 Accuracy: ' + str(float(accuracy_cnt) / len(x)))\n",
    "\n",
    "## 2.9초 vs 0.1초 차이\n",
    "    "
   ]
  }
 ],
 "metadata": {
  "kernelspec": {
   "display_name": "Python 3",
   "language": "python",
   "name": "python3"
  },
  "language_info": {
   "codemirror_mode": {
    "name": "ipython",
    "version": 3
   },
   "file_extension": ".py",
   "mimetype": "text/x-python",
   "name": "python",
   "nbconvert_exporter": "python",
   "pygments_lexer": "ipython3",
   "version": "3.9.0"
  },
  "orig_nbformat": 4
 },
 "nbformat": 4,
 "nbformat_minor": 2
}
