{
 "cells": [
  {
   "cell_type": "code",
   "execution_count": 9,
   "metadata": {},
   "outputs": [],
   "source": [
    "import numpy as np"
   ]
  },
  {
   "cell_type": "markdown",
   "metadata": {},
   "source": [
    "# Q2 AND, OR, XOR, NAND 실습하기"
   ]
  },
  {
   "cell_type": "markdown",
   "metadata": {},
   "source": [
    "1) 현재 오픈하신 ipynb 파일에 AND, NAND, OR을 구현하는 3가지 함수를 만들고, 해당 함수\n",
    "의 원형을 참고하여 만들어 주세요."
   ]
  },
  {
   "cell_type": "code",
   "execution_count": 91,
   "metadata": {},
   "outputs": [],
   "source": [
    "# 의견: b의 값에 -를 붙이는게 아니라, tmp에서 +b대신 +(-b)로 표현하는게 직관적이지 않나?\n",
    "def AND(x1,x2):\n",
    "    x = np.array([x1,x2])\n",
    "    w = np.array([0.6,0.4]) #각 입력값의 영향력\n",
    "    b = -0.6 #theta가 -b로 치환 (입력값이 얼마나 쉽게 활성화 되느냐)\n",
    "    tmp = np.sum(w*x)+b\n",
    "    print(tmp)\n",
    "    if tmp <= 0:\n",
    "        return 0\n",
    "    elif tmp > 0:\n",
    "        return 1\n",
    "    # (b의 영향이 없기 위해서는) w가 큰값보다 -b가 같거나 커야 함\n",
    "\n",
    "def NAND(x1, x2):\n",
    "    x = np.array([x1,x2])\n",
    "    w = np.array([-0.6,-0.4])\n",
    "    b = -(-0.61)\n",
    "    tmp = np.sum(w*x)+b\n",
    "    print(tmp)\n",
    "    if tmp <= 0:\n",
    "        return 0\n",
    "    elif tmp > 0:\n",
    "        return 1\n",
    "    # (b의 영향이 없기 위해서는) w가 작은값(절대값이 큰값)보다 -b가 작아야(절대값이 커야)함\n",
    "\n",
    "def OR(x1, x2):\n",
    "    x = np.array([x1,x2])\n",
    "    w = np.array([0.3,0.3])\n",
    "    b = -0.29\n",
    "    tmp = np.sum(w*x)+b\n",
    "    print(tmp)\n",
    "    if tmp <= 0:\n",
    "        return 0\n",
    "    elif tmp > 0:\n",
    "        return 1\n",
    "    # w의 영향을 크게 받음(b의 영향이 없는 답이 나오기 위해서는 가중치를 동등하게, -b를 가중치보다 작게 해야함)"
   ]
  },
  {
   "cell_type": "markdown",
   "metadata": {},
   "source": [
    "2) 1) 단계에서 AND, NAND, OR 함수를 완성시켰다면, 아래와 같은 코드를 실행하여서 적절한 답이\n",
    "나오는 지 확인하세요."
   ]
  },
  {
   "cell_type": "code",
   "execution_count": 92,
   "metadata": {},
   "outputs": [
    {
     "name": "stdout",
     "output_type": "stream",
     "text": [
      "-0.6\n",
      "-0.19999999999999996\n",
      "0.0\n",
      "0.4\n",
      "AND 게이트 결과 :  0 0 0 1\n",
      "0.61\n",
      "0.20999999999999996\n",
      "0.010000000000000009\n",
      "-0.39\n",
      "NAND 게이트 결과 :  1 1 1 0\n",
      "-0.29\n",
      "0.010000000000000009\n",
      "0.010000000000000009\n",
      "0.31\n",
      "OR 게이트 결과 :  0 1 1 1\n"
     ]
    }
   ],
   "source": [
    "print('AND 게이트 결과 : ', AND(0, 0), AND(0, 1), AND(1,0), AND(1, 1))\n",
    "print('NAND 게이트 결과 : ', NAND(0, 0), NAND(0, 1), NAND(1, 0), NAND(1, 1))\n",
    "print('OR 게이트 결과 : ', OR(0, 0), OR(0, 1), OR(1, 0), OR(1, 1))"
   ]
  },
  {
   "cell_type": "markdown",
   "metadata": {},
   "source": [
    "3) XOR 게이트의 한계점을 주석으로 달아서 작성해주시고, XOR 게이트를 a에서 구현하였던 AND, \n",
    "NAND, OR을 적절하게 이용하여 구현하세요."
   ]
  },
  {
   "cell_type": "code",
   "execution_count": 96,
   "metadata": {},
   "outputs": [],
   "source": [
    "def XOR(x1, x2): #한계: 여전히 비선형 데이터에 대해서 분류하기 어렵다.\n",
    "    s1 = NAND(x1,x2)\n",
    "    s2 = OR(x1,x2)\n",
    "    y = AND(s1,s2)\n",
    "    print(y)\n",
    "    return y"
   ]
  },
  {
   "cell_type": "code",
   "execution_count": 97,
   "metadata": {},
   "outputs": [
    {
     "name": "stdout",
     "output_type": "stream",
     "text": [
      "0.61\n",
      "-0.29\n",
      "0.0\n",
      "0\n",
      "0.20999999999999996\n",
      "0.010000000000000009\n",
      "0.4\n",
      "1\n",
      "0.010000000000000009\n",
      "0.010000000000000009\n",
      "0.4\n",
      "1\n",
      "-0.39\n",
      "0.31\n",
      "-0.19999999999999996\n",
      "0\n",
      "XOR 게이트 결과 :  0 1 1 0\n"
     ]
    }
   ],
   "source": [
    "print('XOR 게이트 결과 : ', XOR(0, 0), XOR(0, 1), XOR(1, 0), XOR(1, 1))"
   ]
  },
  {
   "cell_type": "markdown",
   "metadata": {},
   "source": [
    "4) XOR 게이트를 c에서와는 다르게, 아래와 같이 두 가지 선형 분류기를 이용하는 것처럼 구현하세\n",
    "요.\n",
    "즉, AND, NAND, OR 함수에서 구현했던 것처럼 적절한 조건을 이용하여 구현하세요."
   ]
  },
  {
   "cell_type": "code",
   "execution_count": 100,
   "metadata": {},
   "outputs": [],
   "source": [
    "def XOR(x1, x2):\n",
    "    #NAND \n",
    "    x = np.array([x1,x2])\n",
    "    w = np.array([-0.5,-0.5])\n",
    "    b = -(-0.7)\n",
    "    tmp = np.sum(w*x)+b\n",
    "    if tmp <= 0: #(둘다 신호가 있는 경우를 제외)\n",
    "        return 0\n",
    "    elif tmp > 0: \n",
    "        #OR \n",
    "        w = np.array([0.5,0.5])\n",
    "        b = -0.2\n",
    "        tmp = np.sum(w*x)+b\n",
    "        if tmp <= 0: #(하나도 신호가 없는 경우를 제외)\n",
    "            return 0\n",
    "        elif tmp > 0: #(하나만 신호가 있는 경우를 출력)\n",
    "            return 1"
   ]
  },
  {
   "cell_type": "code",
   "execution_count": 101,
   "metadata": {},
   "outputs": [
    {
     "name": "stdout",
     "output_type": "stream",
     "text": [
      "XOR 게이트 결과 :  0 1 1 0\n"
     ]
    }
   ],
   "source": [
    "print('XOR 게이트 결과 : ', XOR(0, 0), XOR(0, 1), XOR(1, 0), XOR(1, 1))"
   ]
  },
  {
   "cell_type": "markdown",
   "metadata": {},
   "source": [
    "# Q3"
   ]
  },
  {
   "cell_type": "markdown",
   "metadata": {},
   "source": [
    "1) 스터디 시간에 배웠던 step_function, sigmoid, ReLU 함수를 해당 함수의 원형을 참고하여 만들\n",
    "어 주세요"
   ]
  },
  {
   "cell_type": "code",
   "execution_count": 158,
   "metadata": {},
   "outputs": [],
   "source": [
    "def step_function(x): #배열형태로 처리 가능\n",
    "    y = x>0\n",
    "    return y.astype(np.int) #true는 1로, false는 0으로\n",
    "\n",
    "def sigmoid(x):\n",
    "    return 1/(1+np.exp(-x)) #x값이 커질수록 1에 수렴(np.exp(-x)값이 작아지기 때문), 음수방향으로 커질수록 0에 수렴\n",
    "\n",
    "def relu(x):\n",
    "    return np.maximum(0,x)"
   ]
  },
  {
   "cell_type": "markdown",
   "metadata": {},
   "source": [
    "2) 항등함수는 f(x)=x인 함수입니다. 이 함수를 아래 함수의 원형을 참고하여 만들어 주세요."
   ]
  },
  {
   "cell_type": "code",
   "execution_count": 154,
   "metadata": {},
   "outputs": [],
   "source": [
    "def identify_function(x):\n",
    "    return x"
   ]
  },
  {
   "cell_type": "markdown",
   "metadata": {},
   "source": [
    "3) 하이퍼볼릭 탄젠트 함수를 아래 함수 원형을 참고하여 만들어 주세요."
   ]
  },
  {
   "cell_type": "code",
   "execution_count": 161,
   "metadata": {},
   "outputs": [],
   "source": [
    "def hyperbolic_tanh(x):\n",
    "    return (np.exp(x) - np.exp(-x))/(np.exp(x) + np.exp(-x))"
   ]
  },
  {
   "cell_type": "markdown",
   "metadata": {},
   "source": [
    "4) 활성화 함수가 아래와 같을 때, 이를 구현하는 코드를 아래 함수 원형을 참고하여 만들어 주세요.\n",
    "(단, Relu함수에서 처럼 np.maximum을 이용하세요)"
   ]
  },
  {
   "cell_type": "code",
   "execution_count": 170,
   "metadata": {},
   "outputs": [],
   "source": [
    "def leaky_relu(x):\n",
    "    negative = x*0.01\n",
    "    return np.maximum(negative,x)"
   ]
  }
 ],
 "metadata": {
  "kernelspec": {
   "display_name": "base",
   "language": "python",
   "name": "python3"
  },
  "language_info": {
   "codemirror_mode": {
    "name": "ipython",
    "version": 3
   },
   "file_extension": ".py",
   "mimetype": "text/x-python",
   "name": "python",
   "nbconvert_exporter": "python",
   "pygments_lexer": "ipython3",
   "version": "3.10.9"
  },
  "orig_nbformat": 4
 },
 "nbformat": 4,
 "nbformat_minor": 2
}
