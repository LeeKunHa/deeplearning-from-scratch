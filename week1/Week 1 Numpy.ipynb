{
 "cells": [
  {
   "cell_type": "markdown",
   "id": "8f40ba4f",
   "metadata": {},
   "source": [
    "<h3> 1. 라이브러리 불러오기 </h3>\n",
    "<h5> (1) 행렬 만들기 </h5>"
   ]
  },
  {
   "cell_type": "code",
   "execution_count": 6,
   "id": "c9690cfd",
   "metadata": {},
   "outputs": [
    {
     "name": "stdout",
     "output_type": "stream",
     "text": [
      "[[1 2 3]\n",
      " [2 3 1]]\n",
      "행렬 x의 크기는 : (2, 3)\n",
      "행렬 x의 타입은 : int32\n",
      "[[1. 2. 3.]\n",
      " [2. 3. 1.]]\n"
     ]
    }
   ],
   "source": [
    "import numpy as np\n",
    "\n",
    "# 벡터 만들기 np.array\n",
    "vector_x = np.array([1, 2, 3])\n",
    "\n",
    "# 행렬 만들기 np.array\n",
    "matrix_x = np.array([[1, 2, 3], [2, 3, 1]])\n",
    "print(matrix_x)\n",
    "\n",
    "# 행렬 x의 크기 확인하기 x.shape\n",
    "print('행렬 x의 크기는 : {}'.format(matrix_x.shape)) # 행렬 X의 크기는 2 x 3\n",
    "\n",
    "# 행렬 x의 type 확인하기 x.dtype\n",
    "print('행렬 x의 타입은 : {}'.format(matrix_x.dtype)) # 행렬 X는 정수의 요소를 가지는 형태\n",
    "\n",
    "matrix_float_x = np.array([[1, 2, 3], [2, 3, 1]], dtype = 'float64') # 행렬 x의 요소를 float으로 하는 경우\n",
    "print(matrix_float_x)"
   ]
  },
  {
   "cell_type": "markdown",
   "id": "cbaecfa2",
   "metadata": {},
   "source": [
    "<h5> (2) 행렬의 초기화 </h5>"
   ]
  },
  {
   "cell_type": "code",
   "execution_count": 17,
   "id": "9ce78958",
   "metadata": {},
   "outputs": [
    {
     "name": "stdout",
     "output_type": "stream",
     "text": [
      "matrix_zero_x의 행렬\n",
      " [[0. 0.]\n",
      " [0. 0.]\n",
      " [0. 0.]]\n",
      "\n",
      "matrix_empty_x의 행렬\n",
      " [[0. 0.]\n",
      " [0. 0.]\n",
      " [0. 0.]]\n",
      "\n",
      "matrix_ones_x의 행렬\n",
      " [[1. 1. 1.]\n",
      " [1. 1. 1.]\n",
      " [1. 1. 1.]]\n",
      "\n",
      "matrix_A의 행렬\n",
      " [1 2 3 4]\n",
      "\n",
      "matrix_B의 행렬\n",
      " [1 2 3 4 5 6 7 8 9]\n",
      "\n",
      "matrix_C의 행렬\n",
      " [ 0.  2.  4.  6.  8. 10. 12. 14. 16. 18. 20.]\n"
     ]
    }
   ],
   "source": [
    "matrix_zero_x = np.zeros((3, 2)) # 3 x 2 행렬의 요소를 모두 0으로 초기화\n",
    "print('matrix_zero_x의 행렬\\n', matrix_zero_x)\n",
    "print()\n",
    "matrix_empty_x = np.empty((3, 2)) # 3 x 2 행렬을 임의의 값으로 초기화\n",
    "print('matrix_empty_x의 행렬\\n', matrix_empty_x)\n",
    "print()\n",
    "matrix_ones_x = np.ones((3, 3)) # 3 x 3 행렬의 모든 요소를 1로 초기화\n",
    "print('matrix_ones_x의 행렬\\n', matrix_ones_x)\n",
    "print()\n",
    "\n",
    "# np.arange(a, b, c) : a부터 b-1까지 c의 간격으로 생성\n",
    "# np.arange(a) : 0부터 a-1까지 1의 간격으로 생성\n",
    "matrix_A = np.arange(1, 5, 1)\n",
    "print('matrix_A의 행렬\\n', matrix_A)\n",
    "print()\n",
    "\n",
    "matrix_B = np.arange(1, 10)\n",
    "print('matrix_B의 행렬\\n', matrix_B)\n",
    "print()\n",
    "\n",
    "# np.linspace(from, to, npoints) : from부터 to까지 일정 간격으로 npoints개 생성\n",
    "matrix_C = np.linspace(0., 20., 11)\n",
    "print('matrix_C의 행렬\\n', matrix_C)"
   ]
  },
  {
   "cell_type": "markdown",
   "id": "3cd438b8",
   "metadata": {},
   "source": [
    "<h5> (3) 차원 변경하기 </h5>"
   ]
  },
  {
   "cell_type": "code",
   "execution_count": 22,
   "id": "b1297d99",
   "metadata": {},
   "outputs": [
    {
     "name": "stdout",
     "output_type": "stream",
     "text": [
      "X의 행렬\n",
      " [[0 1 2]\n",
      " [3 4 5]\n",
      " [6 7 8]]\n",
      "\n",
      "X의 행렬\n",
      " [[0 1 2]\n",
      " [3 4 5]\n",
      " [6 7 8]]\n",
      "\n",
      "Y의 행렬\n",
      " [0. 1. 2. 3. 4. 5. 6. 7. 8.]\n",
      "\n",
      "Y의 행렬\n",
      " [[0. 1. 2.]\n",
      " [3. 4. 5.]\n",
      " [6. 7. 8.]]\n"
     ]
    }
   ],
   "source": [
    "X = np.array([[0, 1, 2], [3, 4, 5], [6, 7, 8]])\n",
    "print('X의 행렬\\n', X)\n",
    "print()\n",
    "# reshape를 이용하여 적절하게 차원 변경\n",
    "X.shape = (3, 3)\n",
    "print('X의 행렬\\n', X)\n",
    "print()\n",
    "\n",
    "Y = np.arange(9.)\n",
    "print('Y의 행렬\\n', Y)\n",
    "print()\n",
    "Y = np.arange(9.).reshape((3, 3))\n",
    "print('Y의 행렬\\n', Y)"
   ]
  },
  {
   "cell_type": "markdown",
   "id": "ac5b57ef",
   "metadata": {},
   "source": [
    "<h3> 2. 행렬의 연산 </h3>"
   ]
  },
  {
   "cell_type": "code",
   "execution_count": 36,
   "id": "08583b81",
   "metadata": {},
   "outputs": [
    {
     "name": "stdout",
     "output_type": "stream",
     "text": [
      "arr1의 행렬\n",
      " [[1. 2. 3.]\n",
      " [4. 5. 6.]]\n",
      "\n",
      "arr1 + arr2의 결과\n",
      " [[ 3.  5.  4.]\n",
      " [ 9.  9. 12.]]\n",
      "\n",
      "arr1 - arr2의 결과\n",
      " [[-1. -1.  2.]\n",
      " [-1.  1.  0.]]\n",
      "\n",
      "arr1 * arr2의 결과\n",
      " [[ 2.  6.  3.]\n",
      " [20. 20. 36.]]\n",
      "\n",
      "arr1 * 2 + arr2 * 3의 결과\n",
      " [[ 8. 13.  9.]\n",
      " [23. 22. 30.]]\n",
      "arr1과 arr2의 내적 결과\n",
      " [[22. 28.]\n",
      " [49. 64.]]\n",
      "\n",
      "arr2과 arr3의 내적 결과\n",
      " [[16. 22.]\n",
      " [47. 62.]]\n",
      "\n",
      "arr3과 arr2의 내적 결과\n",
      " [[12. 11. 13.]\n",
      " [26. 25. 27.]\n",
      " [40. 39. 41.]]\n",
      "\n"
     ]
    }
   ],
   "source": [
    "arr1 = np.array([[1., 2., 3.], [4., 5., 6.]])\n",
    "arr2 = np.array([[2., 3., 1.], [5., 4., 6.]])\n",
    "arr3 = np.array([[1, 2], [3, 4], [5, 6]])\n",
    "\n",
    "print('arr1의 행렬\\n', arr1)\n",
    "print()\n",
    "\n",
    "print('arr1 + arr2의 결과\\n', arr1 + arr2) # np.add(arr1, arr2)\n",
    "print()\n",
    "print('arr1 - arr2의 결과\\n', arr1 - arr2) # np.sub(arr1, arr2)\n",
    "print()\n",
    "print('arr1 * arr2의 결과\\n', arr1 * arr2) #np.multiply(arr1, arr2)\n",
    "print()\n",
    "print('arr1 * 2 + arr2 * 3의 결과\\n', 2 * arr1 + 3 * arr2)\n",
    "\n",
    "arr1_dot_arr3 = np.dot(arr1, arr3)\n",
    "arr2_dot_arr3 = np.dot(arr2, arr3)\n",
    "arr3_dot_arr2 = np.dot(arr3, arr2)\n",
    "\n",
    "print('arr1과 arr2의 내적 결과\\n', arr1_dot_arr3)\n",
    "print()\n",
    "\n",
    "print('arr2과 arr3의 내적 결과\\n', arr2_dot_arr3)\n",
    "print()\n",
    "\n",
    "print('arr3과 arr2의 내적 결과\\n', arr3_dot_arr2)\n",
    "print()\n"
   ]
  },
  {
   "cell_type": "markdown",
   "id": "f4262453",
   "metadata": {},
   "source": [
    "<h3> 3. 인덱싱과 슬라이싱 </h3>"
   ]
  },
  {
   "cell_type": "markdown",
   "id": "bf53c585",
   "metadata": {},
   "source": [
    "<h5> (1) 기본 인덱싱 </h5>"
   ]
  },
  {
   "cell_type": "code",
   "execution_count": 64,
   "id": "cf6b47db",
   "metadata": {},
   "outputs": [
    {
     "name": "stdout",
     "output_type": "stream",
     "text": [
      "벡터 arr의 결과\n",
      " [ 1.  3.  5.  7.  9. 11. 13. 15. 17. 19.]\n",
      "\n",
      "arr[5:8]의 결과\n",
      " [11. 13. 15.]\n",
      "\n",
      "arr[[0, 2, 4]]의 결과\n",
      " [1. 5. 9.]\n",
      "\n",
      "arr2의 결과\n",
      " [[ 0  1  2  3]\n",
      " [ 4  5  6  7]\n",
      " [ 8  9 10 11]\n",
      " [12 13 14 15]]\n",
      "\n",
      "arr2[[1, 2], [1, 2]]의 결과\n",
      " [ 5 10]\n",
      "\n",
      "arr2[1:, 1:3]의 결과\n",
      " [[ 5  6]\n",
      " [ 9 10]\n",
      " [13 14]]\n",
      "\n",
      "[[ 0 20 20 20]\n",
      " [ 4 20 20 20]\n",
      " [ 8  9 10 11]\n",
      " [12 13 14 15]]\n",
      "tmp의 결과\n",
      " [[20 20]\n",
      " [20 20]\n",
      " [15 15]]\n",
      "\n",
      "arr2의 결과\n",
      " [[ 0 20 20 20]\n",
      " [ 4 20 20 20]\n",
      " [ 8 15 15 11]\n",
      " [12 13 14 15]]\n"
     ]
    }
   ],
   "source": [
    "arr = np.linspace(1, 19, 10)\n",
    "arr2 = np.arange(16).reshape((4, 4))\n",
    "\n",
    "print('벡터 arr의 결과\\n', arr)\n",
    "print()\n",
    "print('arr[5:8]의 결과\\n', arr[5:8])\n",
    "print()\n",
    "print('arr[[0, 2, 4]]의 결과\\n', arr[[0, 2, 4]])\n",
    "print()\n",
    "print('arr2의 결과\\n', arr2)\n",
    "print()\n",
    "\n",
    "print('arr2[[1, 2], [1, 2]]의 결과\\n', arr2[[1, 2], [1, 2]])\n",
    "print()\n",
    "print('arr2[1:, 1:3]의 결과\\n', arr2[1:, 1:3])\n",
    "print()\n",
    "\n",
    "# 슬라이싱 이용해서 값 대입 가능\n",
    "arr2[:2, 1:] = 20\n",
    "print(arr2)\n",
    "\n",
    "# 따로 추출해서 이용 가능\n",
    "tmp = arr2[:3, 1:3]\n",
    "tmp[2:, :] = 15\n",
    "print('tmp의 결과\\n', tmp)\n",
    "print()\n",
    "print('arr2의 결과\\n', arr2)"
   ]
  },
  {
   "cell_type": "markdown",
   "id": "efd0a467",
   "metadata": {},
   "source": [
    "<h5> (2) 불린 인덱싱 </h5>"
   ]
  },
  {
   "cell_type": "code",
   "execution_count": 59,
   "id": "5e43ac44",
   "metadata": {},
   "outputs": [
    {
     "name": "stdout",
     "output_type": "stream",
     "text": [
      "arr > 10인 배열만 추출\n",
      " [11. 13. 15. 17. 19.]\n",
      "\n",
      "arr2 [[ 0  1  2  3]\n",
      " [ 4  5  6  7]\n",
      " [ 8  9 10 11]\n",
      " [12 13 14 15]]\n",
      "arr2 > 10인 배열만 추출\n",
      " [11 12 13 14 15]\n"
     ]
    }
   ],
   "source": [
    "arr = np.linspace(1, 19, 10)\n",
    "arr2 = np.arange(16).reshape((4, 4))\n",
    "\n",
    "mask = arr > 10\n",
    "arr > 10\n",
    "print('arr > 10인 배열만 추출\\n', arr[arr > 10])\n",
    "print()\n",
    "\n",
    "print('arr2', arr2)\n",
    "print('arr2 > 10인 배열만 추출\\n', arr2[arr2 > 10])"
   ]
  },
  {
   "cell_type": "markdown",
   "id": "b2ec90ff",
   "metadata": {},
   "source": [
    "<h3> (3) 배열 합치기 </h3>"
   ]
  },
  {
   "cell_type": "code",
   "execution_count": 71,
   "id": "79d7ac21",
   "metadata": {},
   "outputs": [
    {
     "name": "stdout",
     "output_type": "stream",
     "text": [
      "a와 b를 세로로 합치기\n",
      " [[1 2 3]\n",
      " [4 5 6]]\n",
      "\n",
      "a와 b를 가로로 합치기\n",
      " [1 2 3 4 5 6]\n",
      "\n",
      "a와 b를 행으로 합치기\n",
      " [[1 2]\n",
      " [3 4]\n",
      " [5 6]]\n",
      "\n"
     ]
    }
   ],
   "source": [
    "a = np.array([1, 2, 3])\n",
    "b = np.array([4, 5, 6])\n",
    "print('a와 b를 세로로 합치기\\n', np.vstack((a, b)))\n",
    "print()\n",
    "print('a와 b를 가로로 합치기\\n', np.hstack((a, b)))\n",
    "print()\n",
    "\n",
    "a = np.array([[1, 2], [3, 4]])\n",
    "b = np.array([[5, 6]])\n",
    "print('a와 b를 행으로 합치기\\n', np.concatenate((a, b), axis = 0))\n",
    "print()"
   ]
  },
  {
   "cell_type": "markdown",
   "id": "57e03b42",
   "metadata": {},
   "source": [
    "<h3> 4. 여러 가지 행렬 </h3>"
   ]
  },
  {
   "cell_type": "code",
   "execution_count": 76,
   "id": "2502e7ba",
   "metadata": {},
   "outputs": [
    {
     "name": "stdout",
     "output_type": "stream",
     "text": [
      "A의 전치행렬\n",
      " [[0 3 6]\n",
      " [1 4 7]\n",
      " [2 5 8]]\n",
      "\n",
      "A의 전치행렬\n",
      " [[0 3 6]\n",
      " [1 4 7]\n",
      " [2 5 8]]\n",
      "B의 행렬\n",
      " [[1. 0. 0. 0. 0. 0. 0.]\n",
      " [0. 1. 0. 0. 0. 0. 0.]\n",
      " [0. 0. 1. 0. 0. 0. 0.]\n",
      " [0. 0. 0. 1. 0. 0. 0.]\n",
      " [0. 0. 0. 0. 1. 0. 0.]\n",
      " [0. 0. 0. 0. 0. 1. 0.]\n",
      " [0. 0. 0. 0. 0. 0. 1.]]\n",
      "\n",
      "C의 역행렬\n",
      " [[ 1.5 -1. ]\n",
      " [-2.5  2. ]]\n"
     ]
    }
   ],
   "source": [
    "A = np.arange(9).reshape((3, 3))\n",
    "print('A의 전치행렬\\n', A.T) \n",
    "print()\n",
    "print('A의 전치행렬\\n', np.transpose(A))\n",
    "\n",
    "# 정사각행렬\n",
    "B = np.identity(7) # 7 x 7 정사각행렬, 주대각성분 1\n",
    "print('B의 행렬\\n', B)\n",
    "print()\n",
    "\n",
    "# A의 역행렬 구하기\n",
    "C = np.array([[4, 2], [5, 3]])\n",
    "print('C의 역행렬\\n', np.linalg.inv(C))"
   ]
  },
  {
   "cell_type": "markdown",
   "id": "3643c67e",
   "metadata": {},
   "source": [
    "<h3> 5. 그 밖의 함수 </h3>"
   ]
  },
  {
   "cell_type": "markdown",
   "id": "9977390b",
   "metadata": {},
   "source": [
    "<h5> (1) 랜덤 함수 </h5>"
   ]
  },
  {
   "cell_type": "code",
   "execution_count": 78,
   "id": "ed7147ef",
   "metadata": {},
   "outputs": [
    {
     "data": {
      "text/plain": [
       "array([0.57469634, 0.26216606, 0.42513903])"
      ]
     },
     "execution_count": 78,
     "metadata": {},
     "output_type": "execute_result"
    }
   ],
   "source": [
    "np.random.rand(3) #0부터 1 사이의 숫자 3개 반환"
   ]
  },
  {
   "cell_type": "code",
   "execution_count": 79,
   "id": "afc1b26e",
   "metadata": {},
   "outputs": [
    {
     "data": {
      "text/plain": [
       "array([[0.67231241, 0.41228781, 0.44366307, 0.99316166, 0.34278043],\n",
       "       [0.95481877, 0.6143226 , 0.53676598, 0.76712036, 0.07843827],\n",
       "       [0.76832386, 0.19988742, 0.34024407, 0.41966822, 0.77134269]])"
      ]
     },
     "execution_count": 79,
     "metadata": {},
     "output_type": "execute_result"
    }
   ],
   "source": [
    "np.random.rand(3, 5) #0부터 1 사이의 숫자를 3 x 5 행렬로 반환"
   ]
  },
  {
   "cell_type": "code",
   "execution_count": 80,
   "id": "f5fdc349",
   "metadata": {},
   "outputs": [
    {
     "data": {
      "text/plain": [
       "array([ 0.1877741 , -0.71267629,  0.52013338])"
      ]
     },
     "execution_count": 80,
     "metadata": {},
     "output_type": "execute_result"
    }
   ],
   "source": [
    "np.random.randn(3) #표준정규분포를 따르는 집단에서 3개 추출"
   ]
  },
  {
   "cell_type": "code",
   "execution_count": 81,
   "id": "f273be1d",
   "metadata": {},
   "outputs": [
    {
     "data": {
      "text/plain": [
       "array([[ 1.1556015 , -0.52078589,  1.62022275,  0.99604961,  2.02853272,\n",
       "         1.03033255],\n",
       "       [-0.05672287, -0.250568  , -0.9435041 ,  0.35162759,  2.03378277,\n",
       "         0.19908701],\n",
       "       [-2.09185286,  1.85390267,  0.03790243,  0.12386057, -0.88881633,\n",
       "        -1.29411239]])"
      ]
     },
     "execution_count": 81,
     "metadata": {},
     "output_type": "execute_result"
    }
   ],
   "source": [
    "np.random.randn(3, 6) # 표준정규분포를 따르는 집단에서 3 x 6 행렬의 형태로 추출"
   ]
  },
  {
   "cell_type": "code",
   "execution_count": 82,
   "id": "bb3adc32",
   "metadata": {},
   "outputs": [
    {
     "data": {
      "text/plain": [
       "24"
      ]
     },
     "execution_count": 82,
     "metadata": {},
     "output_type": "execute_result"
    }
   ],
   "source": [
    "np.random.randint(100) # 0부터 100 사이의 정수를 아무거나 하나 추출"
   ]
  },
  {
   "cell_type": "code",
   "execution_count": 83,
   "id": "7eae25c9",
   "metadata": {},
   "outputs": [
    {
     "data": {
      "text/plain": [
       "array([43, 57, 62, 56, 66, 99, 90, 98, 98,  2])"
      ]
     },
     "execution_count": 83,
     "metadata": {},
     "output_type": "execute_result"
    }
   ],
   "source": [
    "np.random.randint(100, size = 10) # 0부터 100 사이의 정수를 아무거나 10개 추출"
   ]
  },
  {
   "cell_type": "code",
   "execution_count": 84,
   "id": "62d6bff3",
   "metadata": {},
   "outputs": [
    {
     "data": {
      "text/plain": [
       "array([[17, 48, 87, 64,  4],\n",
       "       [61, 35,  2, 68,  1]])"
      ]
     },
     "execution_count": 84,
     "metadata": {},
     "output_type": "execute_result"
    }
   ],
   "source": [
    "np.random.randint(100, size = (2, 5)) # 0부터 100 사이의 정수를 아무거나 10개 추출하고 2 x 5 행렬로 표현"
   ]
  },
  {
   "cell_type": "code",
   "execution_count": 85,
   "id": "70e4487b",
   "metadata": {},
   "outputs": [
    {
     "data": {
      "text/plain": [
       "array([[108.15601453,  96.14158713,  96.75996789,  96.80961323,\n",
       "         89.89123224],\n",
       "       [ 93.45330442, 122.68591705, 102.80988641,  99.31806642,\n",
       "         99.8498359 ]])"
      ]
     },
     "execution_count": 85,
     "metadata": {},
     "output_type": "execute_result"
    }
   ],
   "source": [
    "np.random.normal(100, 10, size = (2, 5)) # 평균이 100이고 표준편차가 10인 정규분포를 따르는 집단에서 10개 추출 후, 2 x 5 행렬로 표현"
   ]
  },
  {
   "cell_type": "markdown",
   "id": "73d38fb5",
   "metadata": {},
   "source": [
    "<h5> (2) 수학 표현 </h5>"
   ]
  },
  {
   "cell_type": "code",
   "execution_count": 92,
   "id": "b6d9b347",
   "metadata": {},
   "outputs": [
    {
     "name": "stdout",
     "output_type": "stream",
     "text": [
      "[[ 1.49014246 -0.4147929   1.94306561  4.56908957]\n",
      " [-0.70246012 -0.70241087  4.73763845  2.30230419]\n",
      " [-1.40842316  1.62768013 -1.39025308 -1.39718926]\n",
      " [ 0.72588681 -5.73984073 -5.1747535  -1.68686259]]\n"
     ]
    }
   ],
   "source": [
    "import random\n",
    "\n",
    "np.random.seed(42)\n",
    "a = np.random.normal(0, 3, size = (4, 4))\n",
    "print(a)"
   ]
  },
  {
   "cell_type": "code",
   "execution_count": 93,
   "id": "e0a6e9a8",
   "metadata": {},
   "outputs": [
    {
     "data": {
      "text/plain": [
       "array([[ 0.99674924, -0.4030004 ,  0.93150434, -0.9897502 ],\n",
       "       [-0.64609734, -0.64605975, -0.99968125,  0.74416801],\n",
       "       [-0.98684641,  0.99838255, -0.98374629, -0.9849681 ],\n",
       "       [ 0.66379896,  0.51700178,  0.89500027, -0.99327187]])"
      ]
     },
     "execution_count": 93,
     "metadata": {},
     "output_type": "execute_result"
    }
   ],
   "source": [
    "np.sin(a)"
   ]
  },
  {
   "cell_type": "code",
   "execution_count": 94,
   "id": "159a33ca",
   "metadata": {},
   "outputs": [
    {
     "data": {
      "text/plain": [
       "array([[ 0.08056645,  0.9151998 , -0.36373022, -0.14280948],\n",
       "       [ 0.76325502,  0.76328684,  0.02524678, -0.6679925 ],\n",
       "       [ 0.16166061, -0.05685313,  0.17956402,  0.17273631],\n",
       "       [ 0.74791105,  0.85598432,  0.4460656 , -0.11580584]])"
      ]
     },
     "execution_count": 94,
     "metadata": {},
     "output_type": "execute_result"
    }
   ],
   "source": [
    "np.cos(a)"
   ]
  },
  {
   "cell_type": "code",
   "execution_count": 95,
   "id": "3b340fe2",
   "metadata": {},
   "outputs": [
    {
     "data": {
      "text/plain": [
       "array([[4.43772767e+00, 6.60477049e-01, 6.98011655e+00, 9.64562530e+01],\n",
       "       [4.95365144e-01, 4.95389543e-01, 1.14164278e+02, 9.99719134e+00],\n",
       "       [2.44528562e-01, 5.09204812e+00, 2.49012277e-01, 2.47291059e-01],\n",
       "       [2.06656295e+00, 3.21528032e-03, 5.65761136e-03, 1.85099347e-01]])"
      ]
     },
     "execution_count": 95,
     "metadata": {},
     "output_type": "execute_result"
    }
   ],
   "source": [
    "np.exp(a)"
   ]
  },
  {
   "cell_type": "code",
   "execution_count": 96,
   "id": "b878556c",
   "metadata": {},
   "outputs": [
    {
     "name": "stderr",
     "output_type": "stream",
     "text": [
      "C:\\Users\\revol\\AppData\\Local\\Temp/ipykernel_35384/2835837605.py:1: RuntimeWarning: invalid value encountered in sqrt\n",
      "  np.sqrt(a)\n"
     ]
    },
    {
     "data": {
      "text/plain": [
       "array([[1.22071391,        nan, 1.39393888, 2.13754288],\n",
       "       [       nan,        nan, 2.17661169, 1.51733457],\n",
       "       [       nan, 1.27580568,        nan,        nan],\n",
       "       [0.85198991,        nan,        nan,        nan]])"
      ]
     },
     "execution_count": 96,
     "metadata": {},
     "output_type": "execute_result"
    }
   ],
   "source": [
    "np.sqrt(a)"
   ]
  }
 ],
 "metadata": {
  "kernelspec": {
   "display_name": "Python 3 (ipykernel)",
   "language": "python",
   "name": "python3"
  },
  "language_info": {
   "codemirror_mode": {
    "name": "ipython",
    "version": 3
   },
   "file_extension": ".py",
   "mimetype": "text/x-python",
   "name": "python",
   "nbconvert_exporter": "python",
   "pygments_lexer": "ipython3",
   "version": "3.9.7"
  }
 },
 "nbformat": 4,
 "nbformat_minor": 5
}
