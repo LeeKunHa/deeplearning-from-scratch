{
 "cells": [
  {
   "cell_type": "markdown",
   "metadata": {},
   "source": [
    "# 2번 문항"
   ]
  },
  {
   "cell_type": "code",
   "execution_count": 1,
   "metadata": {},
   "outputs": [
    {
     "name": "stdout",
     "output_type": "stream",
     "text": [
      "[[ 97. 179.]\n",
      " [ 15. 364.]\n",
      " [ 12. 538.]\n",
      " [ 40. 581.]\n",
      " [ 18. 108.]]\n"
     ]
    }
   ],
   "source": [
    "import numpy as np\n",
    "\n",
    "#모든 값이 0인 100 x 2 행렬 X를 만들고, 첫 번째 열에는 10부터 100까지의 자연수 중에서 랜덤으로 100개를, 두 번째 열에는 100부터 2000까지의 자연수 중 랜덤으로 100개를 저장한다\n",
    "X = np.zeros((100,2))\n",
    "X[:,0] = np.random.randint(10,101,size=(1,100))\n",
    "X[:,1] = np.random.randint(100,2001,size=(1,100))\n",
    "print(X[:5]) #5개만 출력"
   ]
  },
  {
   "cell_type": "code",
   "execution_count": 2,
   "metadata": {},
   "outputs": [],
   "source": [
    "# 행렬 X와 동일한 크기(100 x 2)를 갖는 행렬을 standard_x라는 변수로 만든다.\n",
    "standard_x = np.zeros_like(X)"
   ]
  },
  {
   "cell_type": "code",
   "execution_count": 3,
   "metadata": {},
   "outputs": [],
   "source": [
    "\n",
    "# 처음에 만들었던 행렬 X에서 열 단위로 평균이 0이고 표준편차가 1인 표준정규분포로 표준화하고, 표준화된 결과를 standard_x 변수에 각각 저장한다. \n",
    "mean_1,mean_2 = X[:, 0].mean(), X[:, 1].mean()\n",
    "std_1,std_2 = X[:, 0].std(), X[:, 1].std()\n",
    "standard_x[:, 0] = (X[:, 0] - mean_1) / std_1\n",
    "standard_x[:, 1] = (X[:, 1] - mean_2) / std_2"
   ]
  },
  {
   "cell_type": "code",
   "execution_count": 4,
   "metadata": {},
   "outputs": [
    {
     "name": "stdout",
     "output_type": "stream",
     "text": [
      "-1.0880185641326534e-16 3.7747582837255325e-17 1.0 1.0\n"
     ]
    }
   ],
   "source": [
    "# print(standard_x[:, 0].mean(), standard_x[:, 1].mean(), standard_x[:, 0].std(), standard_x[:, 1].std())를 출력하여 각각 출력이 0, 0, 1, 1에 가까운 지 확인한다.\n",
    "print(standard_x[:, 0].mean(), standard_x[:, 1].mean(), standard_x[:, 0].std(), standard_x[:, 1].std())"
   ]
  },
  {
   "cell_type": "markdown",
   "metadata": {},
   "source": [
    "# 3번 문항"
   ]
  },
  {
   "cell_type": "code",
   "execution_count": 5,
   "metadata": {},
   "outputs": [
    {
     "name": "stdout",
     "output_type": "stream",
     "text": [
      "[Data Loaded]: (463447, 3) \n",
      "\n"
     ]
    }
   ],
   "source": [
    "import numpy as np\n",
    "data_arr = np.loadtxt(\"population.csv\", delimiter=\",\", dtype=np.int64)\n",
    "print(\"[Data Loaded]:\", data_arr.shape, '\\n')"
   ]
  },
  {
   "cell_type": "code",
   "execution_count": 6,
   "metadata": {},
   "outputs": [
    {
     "name": "stdout",
     "output_type": "stream",
     "text": [
      "     남성 여성\n",
      "0대 0.51 0.49\n",
      "10대 0.51 0.49\n",
      "20대 0.50 0.50\n",
      "30대 0.51 0.49\n",
      "40대 0.50 0.50\n",
      "50대 0.49 0.51\n",
      "60대 0.48 0.52\n",
      "70대 0.45 0.55\n",
      "80대 0.35 0.65\n"
     ]
    }
   ],
   "source": [
    "# (1) 연령대별 남녀 성비를 출력하세요. 연령대는 10대 미만(0~9), 10대(10~19), 20대(20~29)와 같이 구분.) 출력 예시는 아래와 같습니다.\n",
    "print(\"     남성 여성\")\n",
    "for age_min in range(0,90,10): #2번째 열(나이)의 값 기반 필터\n",
    "    age_max = age_min+10\n",
    "    age_filter = ((data_arr[:, 1]) >= age_min) & ((data_arr[:, 1] < age_max))\n",
    "    male_ratio = len(data_arr[age_filter & (data_arr[:, 0] == 1)][:, 1])/len(data_arr[age_filter])\n",
    "    female_ratio = len(data_arr[age_filter & (data_arr[:, 0] == 2)][:, 1])/len(data_arr[age_filter])\n",
    "    print(f\"{age_min}대 {male_ratio:.2f} {female_ratio:.2f}\")"
   ]
  },
  {
   "cell_type": "code",
   "execution_count": 9,
   "metadata": {},
   "outputs": [
    {
     "name": "stdout",
     "output_type": "stream",
     "text": [
      "      남성 여성 전체\n",
      "20대 0.78 0.84 0.81\n",
      "30대 0.80 0.79 0.80\n",
      "40대 0.63 0.59 0.61\n",
      "50대 0.31 0.17 0.23\n"
     ]
    }
   ],
   "source": [
    "# (2) 연령대별/성별( 및 전체) 대학 진학률을 출력하세요. 연령대는 20대, 30대, 40대, 50대 이상으로만 분류하고, 대학 진학 여부는 “대학(4년제 미만)” 코드인 5 이상이면 대학 진학으로 판단하세요. \n",
    "print(\"      남성 여성 전체\")\n",
    "age_array = np.array([20,30,40,50,90])\n",
    "for age_min_index in range(len(age_array)-1):\n",
    "    age_filter = ((data_arr[:, 1]) >= age_array[age_min_index]) & ((data_arr[:, 1] < age_array[age_min_index+1]))\n",
    "    male_ratio = len(data_arr[age_filter & (data_arr[:, 0] == 1) & (data_arr[:, 2] >= 5)])/len(data_arr[age_filter& (data_arr[:, 0] == 1)])\n",
    "    female_ratio = len(data_arr[age_filter & (data_arr[:, 0] == 2) & (data_arr[:, 2] >= 5)])/len(data_arr[age_filter& (data_arr[:, 0] == 2)])\n",
    "    total_ratio = len(data_arr[age_filter & (data_arr[:, 2] >= 5)])/len(data_arr[age_filter])\n",
    "    print(f\"{age_array[age_min_index]}대 {male_ratio:.2f} {female_ratio:.2f} {total_ratio:.2f}\")"
   ]
  }
 ],
 "metadata": {
  "kernelspec": {
   "display_name": "base",
   "language": "python",
   "name": "python3"
  },
  "language_info": {
   "codemirror_mode": {
    "name": "ipython",
    "version": 3
   },
   "file_extension": ".py",
   "mimetype": "text/x-python",
   "name": "python",
   "nbconvert_exporter": "python",
   "pygments_lexer": "ipython3",
   "version": "3.10.9"
  },
  "orig_nbformat": 4
 },
 "nbformat": 4,
 "nbformat_minor": 2
}
