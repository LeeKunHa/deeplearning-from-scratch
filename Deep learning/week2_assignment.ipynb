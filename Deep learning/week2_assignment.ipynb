{
 "cells": [
  {
   "cell_type": "markdown",
   "metadata": {},
   "source": [
    "# Q2 AND, OR, XOR, NAND 실습하기"
   ]
  },
  {
   "cell_type": "markdown",
   "metadata": {},
   "source": [
    "1) 현재 오픈하신 ipynb 파일에 AND, NAND, OR을 구현하는 3가지 함수를 만들고, 해당 함수\n",
    "의 원형을 참고하여 만들어 주세요."
   ]
  },
  {
   "cell_type": "code",
   "execution_count": null,
   "metadata": {},
   "outputs": [],
   "source": [
    "def AND(x1, x2):\n",
    "    (w1, w2, b) = 0.5, 0.5, -0.7\n",
    "    \n",
    "    \n",
    "    \n",
    "def NAND(x1, x2):\n",
    "\n",
    "        \n",
    "        \n",
    "        \n",
    "def OR(x1, x2):\n"
   ]
  },
  {
   "cell_type": "markdown",
   "metadata": {},
   "source": [
    "2) 1) 단계에서 AND, NAND, OR 함수를 완성시켰다면, 아래와 같은 코드를 실행하여서 적절한 답이\n",
    "나오는 지 확인하세요."
   ]
  },
  {
   "cell_type": "code",
   "execution_count": null,
   "metadata": {},
   "outputs": [],
   "source": [
    "print('AND 게이트 결과 : ', AND(0, 0), AND(0, 1), AND(1,0), AND(1, 1))\n",
    "print('NAND 게이트 결과 : ', NAND(0, 0), NAND(0, 1), NAND(1, 0), NAND(1, 1))\n",
    "print('OR 게이트 결과 : ', OR(0, 0), OR(0, 1), OR(1, 0), OR(1, 1)"
   ]
  },
  {
   "cell_type": "markdown",
   "metadata": {},
   "source": [
    "3) XOR 게이트의 한계점을 주석으로 달아서 작성해주시고, XOR 게이트를 a에서 구현하였던 AND, \n",
    "NAND, OR을 적절하게 이용하여 구현하세요. 함수 원형은 아래와 같습니다."
   ]
  },
  {
   "cell_type": "code",
   "execution_count": null,
   "metadata": {},
   "outputs": [],
   "source": [
    "def XOR(x1, x2)"
   ]
  },
  {
   "cell_type": "markdown",
   "metadata": {},
   "source": [
    "4) XOR 게이트를 c에서와는 다르게, 아래와 같이 두 가지 선형 분류기를 이용하는 것처럼 구현하세\n",
    "요.\n",
    "즉, AND, NAND, OR 함수에서 구현했던 것처럼 적절한 조건을 이용하여 구현하세요."
   ]
  },
  {
   "cell_type": "code",
   "execution_count": null,
   "metadata": {},
   "outputs": [],
   "source": []
  },
  {
   "cell_type": "markdown",
   "metadata": {},
   "source": [
    "# Q3"
   ]
  },
  {
   "cell_type": "markdown",
   "metadata": {},
   "source": [
    "1) 스터디 시간에 배웠던 step_function, sigmoid, ReLU 함수를 해당 함수의 원형을 참고하여 만들\n",
    "어 주세요"
   ]
  },
  {
   "cell_type": "code",
   "execution_count": null,
   "metadata": {},
   "outputs": [],
   "source": [
    "def step_function(x), def sigmoid(x), def relu(x)"
   ]
  },
  {
   "cell_type": "markdown",
   "metadata": {},
   "source": [
    "2) 항등함수는 f(x)=x인 함수입니다. 이 함수를 아래 함수의 원형을 참고하여 만들어 주세요."
   ]
  },
  {
   "cell_type": "code",
   "execution_count": null,
   "metadata": {},
   "outputs": [],
   "source": [
    "def identify_function(x)"
   ]
  },
  {
   "cell_type": "markdown",
   "metadata": {},
   "source": [
    "3) 하이퍼볼릭 탄젠트 함수를 아래 함수 원형을 참고하여 만들어 주세요."
   ]
  },
  {
   "cell_type": "code",
   "execution_count": null,
   "metadata": {},
   "outputs": [],
   "source": [
    "def hyperbolic_tanh(x)"
   ]
  },
  {
   "cell_type": "markdown",
   "metadata": {},
   "source": [
    "4) 활성화 함수가 아래와 같을 때, 이를 구현하는 코드를 아래 함수 원형을 참고하여 만들어 주세요.\n",
    "(단, Relu함수에서 처럼 np.maximum을 이용하세요)"
   ]
  },
  {
   "cell_type": "code",
   "execution_count": null,
   "metadata": {},
   "outputs": [],
   "source": [
    "def leaky_relu(x)\n"
   ]
  }
 ],
 "metadata": {
  "language_info": {
   "name": "python"
  },
  "orig_nbformat": 4
 },
 "nbformat": 4,
 "nbformat_minor": 2
}
